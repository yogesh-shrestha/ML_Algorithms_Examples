{
 "cells": [
  {
   "cell_type": "markdown",
   "id": "d2bd2bdf",
   "metadata": {},
   "source": [
    "## PCA\n",
    "Principal Component Analysis is the the most popular dimensianality reduction algorithm. It identifies the hyperplane that lies closest to the data and then it projects data onto it.\n",
    "\n",
    "PCA identifies the axis that accounts for the largest amount of variance in the training data. It also finds the second axis, that is orthogonal to the first one. These axes are called principal components.\n",
    "\n",
    "Principal components can be found with standard matrix factorization technique called <i>Single Value Decomposition</i>. The traing set matrix $X$ is decomposed into matrix multiplication of three matrices $U \\sum V^T$, where $V$ contains the units vectors that define all the principal components."
   ]
  },
  {
   "cell_type": "code",
   "execution_count": 251,
   "id": "fa331303",
   "metadata": {},
   "outputs": [],
   "source": [
    "import numpy as np\n",
    "\n",
    "# Generate data\n",
    "X1 = np.linspace(0,3, 100)\n",
    "X2 = 2*X1 + 1 + np.random.randn(100,)/1.5\n",
    "X = np.c_[X1, X2]"
   ]
  },
  {
   "cell_type": "code",
   "execution_count": 254,
   "id": "8736e6f8",
   "metadata": {},
   "outputs": [
    {
     "name": "stdout",
     "output_type": "stream",
     "text": [
      "principal componets: \n",
      " [[ 0.40207927  0.91560486]\n",
      " [ 0.91560486 -0.40207927]]\n",
      "Singualar Values: \n",
      " [20.81643281  2.77606957]\n"
     ]
    },
    {
     "data": {
      "image/png": "[encoded data removed]",
      "text/plain": [
       "<Figure size 576x360 with 1 Axes>"
      ]
     },
     "metadata": {
      "needs_background": "light"
     },
     "output_type": "display_data"
    }
   ],
   "source": [
    "import matplotlib.pyplot as plt\n",
    "\n",
    "# obtain principal componetns\n",
    "X_centered = X - X.mean(axis=0)\n",
    "U,S,Vt = np.linalg.svd(X_centered)\n",
    "\n",
    "# unit vectors of principal components\n",
    "pc1 = Vt.T[:, 0]\n",
    "pc2 = Vt.T[:, 1]\n",
    "\n",
    "# lets multiply with eigen values(eigen_value = sqrt(singular_value))\n",
    "pc1 = pc1*np.sqrt(S[0])\n",
    "pc2 = pc2*np.sqrt(S[1])\n",
    "fig, ax = plt.subplots(figsize=(8,5))\n",
    "_ = ax.scatter(X[:,0], X[:,1])\n",
    "origin = np.array([[1.5,1.5],[4,4]])\n",
    "_ = ax.quiver(1.5, 4, pc1[0], pc1[1])\n",
    "_ = ax.quiver(1.5, 4, pc2[0], pc2[1])\n",
    "\n",
    "print('principal componets: \\n', Vt.T)\n",
    "print('Singualar Values: \\n', S)"
   ]
  },
  {
   "cell_type": "code",
   "execution_count": 255,
   "id": "05cbdd4a",
   "metadata": {},
   "outputs": [],
   "source": [
    "# Projecting the training set down to d dimensions\n",
    "# X_d-proj = X.W_d\n",
    "\n",
    "W_1 = Vt.T[:, :1]\n",
    "X2D = X_centered.dot(W_1)"
   ]
  },
  {
   "cell_type": "markdown",
   "id": "cd4a64ee",
   "metadata": {},
   "source": [
    "### Using Scikit-Learn\n",
    "Scikit-Learn uses SVD to implement PCA"
   ]
  },
  {
   "cell_type": "code",
   "execution_count": 256,
   "id": "5d3f6819",
   "metadata": {},
   "outputs": [
    {
     "name": "stdout",
     "output_type": "stream",
     "text": [
      "principal components: \n",
      " [[ 0.40207927  0.91560486]\n",
      " [-0.91560486  0.40207927]]\n",
      "Singular Values: \n",
      " [20.81643281  2.77606957]\n"
     ]
    }
   ],
   "source": [
    "from sklearn.decomposition import PCA\n",
    "\n",
    "pca = PCA(n_components = 2)\n",
    "X2D = pca.fit_transform(X)\n",
    "\n",
    "print('principal components: \\n', pca.components_)\n",
    "print('Singular Values: \\n', pca.singular_values_)\n"
   ]
  },
  {
   "cell_type": "markdown",
   "id": "389cd88c",
   "metadata": {},
   "source": [
    "### Choosing the Right Numbr of Dimensions"
   ]
  },
  {
   "cell_type": "code",
   "execution_count": 258,
   "id": "ab5501b5",
   "metadata": {},
   "outputs": [
    {
     "data": {
      "text/html": [
       "<div>\n",
       "<style scoped>\n",
       "    .dataframe tbody tr th:only-of-type {\n",
       "        vertical-align: middle;\n",
       "    }\n",
       "\n",
       "    .dataframe tbody tr th {\n",
       "        vertical-align: top;\n",
       "    }\n",
       "\n",
       "    .dataframe thead th {\n",
       "        text-align: right;\n",
       "    }\n",
       "</style>\n",
       "<table border=\"1\" class=\"dataframe\">\n",
       "  <thead>\n",
       "    <tr style=\"text-align: right;\">\n",
       "      <th></th>\n",
       "      <th>radius_mean</th>\n",
       "      <th>texture_mean</th>\n",
       "      <th>perimeter_mean</th>\n",
       "      <th>area_mean</th>\n",
       "      <th>smoothness_mean</th>\n",
       "      <th>compactness_mean</th>\n",
       "      <th>concavity_mean</th>\n",
       "      <th>concave points_mean</th>\n",
       "      <th>symmetry_mean</th>\n",
       "      <th>fractal_dimension_mean</th>\n",
       "      <th>...</th>\n",
       "      <th>texture_worst</th>\n",
       "      <th>perimeter_worst</th>\n",
       "      <th>area_worst</th>\n",
       "      <th>smoothness_worst</th>\n",
       "      <th>compactness_worst</th>\n",
       "      <th>concavity_worst</th>\n",
       "      <th>concave points_worst</th>\n",
       "      <th>symmetry_worst</th>\n",
       "      <th>fractal_dimension_worst</th>\n",
       "      <th>diagnosis</th>\n",
       "    </tr>\n",
       "  </thead>\n",
       "  <tbody>\n",
       "    <tr>\n",
       "      <th>0</th>\n",
       "      <td>1.097064</td>\n",
       "      <td>-2.073335</td>\n",
       "      <td>1.269934</td>\n",
       "      <td>0.984375</td>\n",
       "      <td>1.568466</td>\n",
       "      <td>3.283515</td>\n",
       "      <td>2.652874</td>\n",
       "      <td>2.532475</td>\n",
       "      <td>2.217515</td>\n",
       "      <td>2.255747</td>\n",
       "      <td>...</td>\n",
       "      <td>-1.359293</td>\n",
       "      <td>2.303601</td>\n",
       "      <td>2.001237</td>\n",
       "      <td>1.307686</td>\n",
       "      <td>2.616665</td>\n",
       "      <td>2.109526</td>\n",
       "      <td>2.296076</td>\n",
       "      <td>2.750622</td>\n",
       "      <td>1.937015</td>\n",
       "      <td>1.0</td>\n",
       "    </tr>\n",
       "    <tr>\n",
       "      <th>1</th>\n",
       "      <td>1.829821</td>\n",
       "      <td>-0.353632</td>\n",
       "      <td>1.685955</td>\n",
       "      <td>1.908708</td>\n",
       "      <td>-0.826962</td>\n",
       "      <td>-0.487072</td>\n",
       "      <td>-0.023846</td>\n",
       "      <td>0.548144</td>\n",
       "      <td>0.001392</td>\n",
       "      <td>-0.868652</td>\n",
       "      <td>...</td>\n",
       "      <td>-0.369203</td>\n",
       "      <td>1.535126</td>\n",
       "      <td>1.890489</td>\n",
       "      <td>-0.375612</td>\n",
       "      <td>-0.430444</td>\n",
       "      <td>-0.146749</td>\n",
       "      <td>1.087084</td>\n",
       "      <td>-0.243890</td>\n",
       "      <td>0.281190</td>\n",
       "      <td>1.0</td>\n",
       "    </tr>\n",
       "    <tr>\n",
       "      <th>2</th>\n",
       "      <td>1.579888</td>\n",
       "      <td>0.456187</td>\n",
       "      <td>1.566503</td>\n",
       "      <td>1.558884</td>\n",
       "      <td>0.942210</td>\n",
       "      <td>1.052926</td>\n",
       "      <td>1.363478</td>\n",
       "      <td>2.037231</td>\n",
       "      <td>0.939685</td>\n",
       "      <td>-0.398008</td>\n",
       "      <td>...</td>\n",
       "      <td>-0.023974</td>\n",
       "      <td>1.347475</td>\n",
       "      <td>1.456285</td>\n",
       "      <td>0.527407</td>\n",
       "      <td>1.082932</td>\n",
       "      <td>0.854974</td>\n",
       "      <td>1.955000</td>\n",
       "      <td>1.152255</td>\n",
       "      <td>0.201391</td>\n",
       "      <td>1.0</td>\n",
       "    </tr>\n",
       "    <tr>\n",
       "      <th>3</th>\n",
       "      <td>-0.768909</td>\n",
       "      <td>0.253732</td>\n",
       "      <td>-0.592687</td>\n",
       "      <td>-0.764464</td>\n",
       "      <td>3.283553</td>\n",
       "      <td>3.402909</td>\n",
       "      <td>1.915897</td>\n",
       "      <td>1.451707</td>\n",
       "      <td>2.867383</td>\n",
       "      <td>4.910919</td>\n",
       "      <td>...</td>\n",
       "      <td>0.133984</td>\n",
       "      <td>-0.249939</td>\n",
       "      <td>-0.550021</td>\n",
       "      <td>3.394275</td>\n",
       "      <td>3.893397</td>\n",
       "      <td>1.989588</td>\n",
       "      <td>2.175786</td>\n",
       "      <td>6.046041</td>\n",
       "      <td>4.935010</td>\n",
       "      <td>1.0</td>\n",
       "    </tr>\n",
       "    <tr>\n",
       "      <th>4</th>\n",
       "      <td>1.750297</td>\n",
       "      <td>-1.151816</td>\n",
       "      <td>1.776573</td>\n",
       "      <td>1.826229</td>\n",
       "      <td>0.280372</td>\n",
       "      <td>0.539340</td>\n",
       "      <td>1.371011</td>\n",
       "      <td>1.428493</td>\n",
       "      <td>-0.009560</td>\n",
       "      <td>-0.562450</td>\n",
       "      <td>...</td>\n",
       "      <td>-1.466770</td>\n",
       "      <td>1.338539</td>\n",
       "      <td>1.220724</td>\n",
       "      <td>0.220556</td>\n",
       "      <td>-0.313395</td>\n",
       "      <td>0.613179</td>\n",
       "      <td>0.729259</td>\n",
       "      <td>-0.868353</td>\n",
       "      <td>-0.397100</td>\n",
       "      <td>1.0</td>\n",
       "    </tr>\n",
       "  </tbody>\n",
       "</table>\n",
       "<p>5 rows × 31 columns</p>\n",
       "</div>"
      ],
      "text/plain": [
       "   radius_mean  texture_mean  perimeter_mean  area_mean  smoothness_mean  \\\n",
       "0     1.097064     -2.073335        1.269934   0.984375         1.568466   \n",
       "1     1.829821     -0.353632        1.685955   1.908708        -0.826962   \n",
       "2     1.579888      0.456187        1.566503   1.558884         0.942210   \n",
       "3    -0.768909      0.253732       -0.592687  -0.764464         3.283553   \n",
       "4     1.750297     -1.151816        1.776573   1.826229         0.280372   \n",
       "\n",
       "   compactness_mean  concavity_mean  concave points_mean  symmetry_mean  \\\n",
       "0          3.283515        2.652874             2.532475       2.217515   \n",
       "1         -0.487072       -0.023846             0.548144       0.001392   \n",
       "2          1.052926        1.363478             2.037231       0.939685   \n",
       "3          3.402909        1.915897             1.451707       2.867383   \n",
       "4          0.539340        1.371011             1.428493      -0.009560   \n",
       "\n",
       "   fractal_dimension_mean  ...  texture_worst  perimeter_worst  area_worst  \\\n",
       "0                2.255747  ...      -1.359293         2.303601    2.001237   \n",
       "1               -0.868652  ...      -0.369203         1.535126    1.890489   \n",
       "2               -0.398008  ...      -0.023974         1.347475    1.456285   \n",
       "3                4.910919  ...       0.133984        -0.249939   -0.550021   \n",
       "4               -0.562450  ...      -1.466770         1.338539    1.220724   \n",
       "\n",
       "   smoothness_worst  compactness_worst  concavity_worst  concave points_worst  \\\n",
       "0          1.307686           2.616665         2.109526              2.296076   \n",
       "1         -0.375612          -0.430444        -0.146749              1.087084   \n",
       "2          0.527407           1.082932         0.854974              1.955000   \n",
       "3          3.394275           3.893397         1.989588              2.175786   \n",
       "4          0.220556          -0.313395         0.613179              0.729259   \n",
       "\n",
       "   symmetry_worst  fractal_dimension_worst  diagnosis  \n",
       "0        2.750622                 1.937015        1.0  \n",
       "1       -0.243890                 0.281190        1.0  \n",
       "2        1.152255                 0.201391        1.0  \n",
       "3        6.046041                 4.935010        1.0  \n",
       "4       -0.868353                -0.397100        1.0  \n",
       "\n",
       "[5 rows x 31 columns]"
      ]
     },
     "execution_count": 258,
     "metadata": {},
     "output_type": "execute_result"
    }
   ],
   "source": [
    "import pandas as pd\n",
    "\n",
    "# load dataset 'Breast cancer Wisconsin'\n",
    "df = pd.read_csv(\"data/data_bcw.csv\")\n",
    "df.head()"
   ]
  },
  {
   "cell_type": "code",
   "execution_count": 262,
   "id": "ef2ac7bb",
   "metadata": {},
   "outputs": [
    {
     "name": "stdout",
     "output_type": "stream",
     "text": [
      "Original Dimentsion of data:    30\n",
      "Minimum no. of dimension to preserve 95% of variance:   10\n",
      "Dimension of the reduced data set:    10\n"
     ]
    },
    {
     "data": {
      "image/png": "[encoded data removed]",
      "text/plain": [
       "<Figure size 432x288 with 1 Axes>"
      ]
     },
     "metadata": {
      "needs_background": "light"
     },
     "output_type": "display_data"
    }
   ],
   "source": [
    "X = df.to_numpy()[:,:-1]  # last column contains labels\n",
    "\n",
    "print('Original Dimentsion of data:   ', X.shape[1])\n",
    "\n",
    "# Choose right dimension that preserves sufficient large portion of variance\n",
    "pca = PCA()\n",
    "pca.fit(X)\n",
    "cumsum = np.cumsum(pca.explained_variance_ratio_)\n",
    "d = np.argmax(cumsum >= 0.95) + 1\n",
    "print('Minimum no. of dimension to preserve 95% of variance:  ', d)\n",
    "\n",
    "# Reducing the dataset to new dataset preserving 95% variance\n",
    "pca = PCA(n_components=0.95)\n",
    "X_reduced = pca.fit_transform(X)\n",
    "print('Dimension of the reduced data set:   ', X_reduced.shape[1])\n",
    "\n",
    "# Explained variance as a function of dimension\n",
    "fig, ax = plt.subplots()\n",
    "_ = ax.plot(cumsum, linewidth=2)\n",
    "_ = ax.set(ylabel='Explained Variance', xlabel='Dimensions')\n",
    "_ = ax.plot([d, d],[0, 0.95], 'k:')\n",
    "_ = ax.plot([0, d],[0.95, 0.95], 'k:')"
   ]
  },
  {
   "cell_type": "code",
   "execution_count": null,
   "id": "3cfccede",
   "metadata": {},
   "outputs": [],
   "source": []
  }
 ],
 "metadata": {
  "kernelspec": {
   "display_name": "Python 3",
   "language": "python",
   "name": "python3"
  },
  "language_info": {
   "codemirror_mode": {
    "name": "ipython",
    "version": 3
   },
   "file_extension": ".py",
   "mimetype": "text/x-python",
   "name": "python",
   "nbconvert_exporter": "python",
   "pygments_lexer": "ipython3",
   "version": "3.8.8"
  }
 },
 "nbformat": 4,
 "nbformat_minor": 5
}
