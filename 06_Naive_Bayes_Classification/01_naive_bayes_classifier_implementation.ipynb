{
 "cells": [
  {
   "cell_type": "markdown",
   "id": "bf79ccda",
   "metadata": {},
   "source": [
    "###  Naive Bayes Implementation\n",
    "In Naive Bayes Classification method, we use Bayes Theorem and make a naive assumption to make mathmatical computation easier. This is where the name comes from.\n",
    "\n",
    "#### Bayes Theorem\n",
    "$$P(A|B) = \\frac{P(B|A).P(A)}{P(X)}$$\n",
    "\n",
    "#### Bayes Theorem in case of classification\n",
    "$$(y|X) = \\frac{P(X|y).P(y)}{P(X)}$$\n",
    "where,<br/>\n",
    "y: class <br/>\n",
    "X: n-dimensional Feature Vector with $X = (x_1, x_2, x_3,..., x_n)$\n",
    "\n",
    "#### Assumption\n",
    "We assume that all features are independent($P(A \\cap B) = P(A).P(B)$).\n",
    "\n",
    "Now we have,\n",
    "$$P(y|X) = \\frac{(x_1|y).P(x_2|y).P(x_3|y).,...,.P(x_n|y).P(y)}{P(X}$$\n",
    "where, <br/>\n",
    "$P(y)$: Prior Probability of class <br/>\n",
    "$P(x_i|y)$: class conditional Prabability of feature $i$\n",
    "\n",
    "$P(X)$ works only as a normalization factor, so it can be ignored.\n",
    "\n",
    "Then,\n",
    "$$P(y|X) = (x_1|y).P(x_2|y).P(x_3|y).,...,.P(x_n|y).P(y)$$\n",
    "\n",
    "Now, we select the classer with highest probability given the features.\n",
    "\n",
    "$$y = argmax_y \\left( P(x_1|y).P(x_2|y).P(x_3|y).,...,.P(x_n|y).P(y) \\right)$$\n",
    "\n",
    "For mathmatical covenience, we use $log$,\n",
    "\n",
    "$$y = argmax_y \\left( log(P(x_1|y)) + log(P(x_2|y)) + log(P(x_3|y)),...,log(P(x_n|y)) + log(P(y)) \\right)$$\n",
    "\n",
    "where. $P(x_i|y)$ is Gaussian Distribution:\n",
    "\n",
    "$$P(x_i|y) = \\frac{1}{\\sqrt{2 \\pi \\sigma_y^2}}.exp \\left( - \\frac{(x_i - \\mu_y)^2}{2\\sigma_y^2} \\right)$$\n",
    "\n"
   ]
  },
  {
   "cell_type": "code",
   "execution_count": 16,
   "id": "f25ae4ae",
   "metadata": {},
   "outputs": [],
   "source": [
    "import numpy as np\n",
    "\n",
    "class NaiveBayes:\n",
    "    def fit(self, X, y):\n",
    "        n_samples, n_features = X.shape\n",
    "        self.classes = np.unique(y)\n",
    "        n_classes = len(self.classes)\n",
    "        # initialize mean, var, priors\n",
    "        self.mean_ = np.zeros((n_classes, n_features), dtype=np.float64)\n",
    "        self.var_ = np.zeros((n_classes, n_features), dtype=np.float64)\n",
    "        self.priors_ = np.zeros(n_classes, dtype=np.float64)\n",
    "        \n",
    "        for c in self.classes:\n",
    "            X_c = X[c==y] # samples that has the label 'c'\n",
    "            self.mean_[c,:] = X_c.mean(axis=0)\n",
    "            self.var_[c,:] = X_c.var(axis=0)\n",
    "            self.priors_[c] = X_c.shape[0] / float(n_samples)\n",
    "            \n",
    "    def predict(self, X):\n",
    "        y_pred = [self._predict(x) for x in X]\n",
    "        return np.array(y_pred)\n",
    "\n",
    "    def _predict(self, x):\n",
    "        posteriors = []\n",
    "\n",
    "        # calculate posterior probability for each class\n",
    "        for idx, c in enumerate(self.classes):\n",
    "            prior = np.log(self.priors_[idx])\n",
    "            posterior = np.sum(np.log(self._pdf(idx, x)))\n",
    "            posterior = prior + posterior\n",
    "            posteriors.append(posterior)\n",
    "\n",
    "        # return class with highest posterior probability\n",
    "        return self.classes[np.argmax(posteriors)]\n",
    "\n",
    "    def _pdf(self, class_idx, x):\n",
    "        mean = self.mean_[class_idx]\n",
    "        var = self.var_[class_idx]\n",
    "        numerator = np.exp(-((x - mean) ** 2) / (2 * var))\n",
    "        denominator = np.sqrt(2 * np.pi * var)\n",
    "        return numerator / denominator\n",
    "        "
   ]
  },
  {
   "cell_type": "code",
   "execution_count": 21,
   "id": "13b6d7bf",
   "metadata": {},
   "outputs": [
    {
     "name": "stdout",
     "output_type": "stream",
     "text": [
      "Naive Bayes classification accuracy 0.965\n"
     ]
    }
   ],
   "source": [
    "from sklearn.model_selection import train_test_split\n",
    "from sklearn import datasets\n",
    "\n",
    "def accuracy(y_true, y_pred):\n",
    "    accuracy = np.sum(y_true == y_pred) / len(y_true)\n",
    "    return accuracy\n",
    "\n",
    "X, y = datasets.make_classification(\n",
    "    n_samples=1000, n_features=10, n_classes=2, random_state=123\n",
    ")\n",
    "X_train, X_test, y_train, y_test = train_test_split(\n",
    "    X, y, test_size=0.2, random_state=123\n",
    ")\n",
    "\n",
    "nb = NaiveBayes()\n",
    "nb.fit(X_train, y_train)\n",
    "predictions = nb.predict(X_test)\n",
    "\n",
    "print(\"Naive Bayes classification accuracy\", accuracy(y_test, predictions))\n",
    "\n"
   ]
  },
  {
   "cell_type": "code",
   "execution_count": null,
   "id": "91546d15",
   "metadata": {},
   "outputs": [],
   "source": []
  }
 ],
 "metadata": {
  "kernelspec": {
   "display_name": "Python 3",
   "language": "python",
   "name": "python3"
  },
  "language_info": {
   "codemirror_mode": {
    "name": "ipython",
    "version": 3
   },
   "file_extension": ".py",
   "mimetype": "text/x-python",
   "name": "python",
   "nbconvert_exporter": "python",
   "pygments_lexer": "ipython3",
   "version": "3.8.8"
  }
 },
 "nbformat": 4,
 "nbformat_minor": 5
}
